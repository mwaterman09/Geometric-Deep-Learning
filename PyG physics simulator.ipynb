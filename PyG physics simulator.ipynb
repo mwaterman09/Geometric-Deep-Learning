{
 "cells": [
  {
   "cell_type": "markdown",
   "metadata": {},
   "source": [
    "This project follows along with the process presented in *A. Sanchez-Gonzalez, J. Godwin, T. Pfaff, R. Ying, J. Leskovec, and P. W. Battaglia. Learning to simulate complex physics with graph networks. In Proceedings of the 37th International Conference on Machine Learning, ICML 2020, 13–18 July 2020, Virtual Event, volume 119 of Proceedings of Machine Learning Research, pages 8459–8468. PMLR, 2020. URL http://proceedings.mlr.press/v119/sanchez-gonzalez20a.html.*"
   ]
  },
  {
   "cell_type": "code",
   "execution_count": 5,
   "metadata": {},
   "outputs": [],
   "source": [
    "import torch.nn as nn\n",
    "import torch\n",
    "import matplotlib.pyplot as plt\n",
    "import numpy as np\n",
    "import torch_geometric as pyg"
   ]
  },
  {
   "cell_type": "code",
   "execution_count": 6,
   "metadata": {},
   "outputs": [],
   "source": [
    "class InteractionNetwork(pyg.nn.MessagePassing):\n",
    "    def __init__(self, hidden_size, layers=3):\n",
    "        super().__init__()\n",
    "        self.lin_edge = MLP(hidden_size*3, hidden_size, layers)\n",
    "        self.lin_node = MLP((hidden_size*2, hidden_size, layers))"
   ]
  },
  {
   "cell_type": "code",
   "execution_count": 7,
   "metadata": {},
   "outputs": [],
   "source": [
    "# construct messages for graph edges\n",
    "def message(self, x_i, x_j, edge_feature):\n",
    "    x = torch.cat((x_i, x_j, edge_feature), dim=1)\n",
    "    x.self.lin_edge(x)\n",
    "    return x"
   ]
  },
  {
   "cell_type": "code",
   "execution_count": 8,
   "metadata": {},
   "outputs": [],
   "source": [
    "# sum edge messages\n",
    "def aggregate(self, inputs, index):\n",
    "    out = torch_scatter.scatter(inputs, index, dim=self.node_dim, reduce=\"sum\")\n",
    "    return (inputs, out)"
   ]
  },
  {
   "cell_type": "code",
   "execution_count": 9,
   "metadata": {},
   "outputs": [],
   "source": [
    "# update node and edge features\n",
    "def forward(self, x, edge_index, edge_feature):\n",
    "    edge_out, aggr = self.propagate(edge_index, x=(x, x), edge_feature=edge_feature)\n",
    "    node_out = self.lin_node(torch.cat((x, aggr), dim=-1))\n",
    "    edge_out = edge_feature + edge_out\n",
    "    node_out = x + node_out\n",
    "    return node_out, edge_out"
   ]
  },
  {
   "cell_type": "code",
   "execution_count": null,
   "metadata": {},
   "outputs": [],
   "source": [
    "class LearnedSimulator(torch.nn.module):\n",
    "    def __init__(self, \n",
    "                 hidden_size=128,\n",
    "                 n_mp_layers=10, # GNN layers\n",
    "                 node_feature_dim=30,\n",
    "                 edge_feature_dim==3,\n",
    "                 dim=2, # 2d or 3d space\n",
    "                 ):\n",
    "        super().__init__()\n",
    "        self.node_in = MLP(node_feature_dim, hidden_size, 3)\n",
    "        self.edge_in = MLP(edge_feature_dim, hidden_size, 3)\n",
    "        self.node_out = MLP(hidden_size, dim, 3)"
   ]
  }
 ],
 "metadata": {
  "kernelspec": {
   "display_name": "base",
   "language": "python",
   "name": "python3"
  },
  "language_info": {
   "codemirror_mode": {
    "name": "ipython",
    "version": 3
   },
   "file_extension": ".py",
   "mimetype": "text/x-python",
   "name": "python",
   "nbconvert_exporter": "python",
   "pygments_lexer": "ipython3",
   "version": "3.10.9"
  },
  "orig_nbformat": 4
 },
 "nbformat": 4,
 "nbformat_minor": 2
}
